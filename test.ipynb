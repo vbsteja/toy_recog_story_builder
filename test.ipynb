{
 "cells": [
  {
   "cell_type": "code",
   "execution_count": 1,
   "id": "468446fc",
   "metadata": {},
   "outputs": [],
   "source": [
    "import array\n",
    "texture_data = []\n",
    "for i in range(0, 100 * 100):\n",
    "    texture_data.append(255 / 255)\n",
    "    texture_data.append(0)\n",
    "    texture_data.append(255 / 255)\n",
    "    texture_data.append(255 / 255)\n",
    "\n",
    "raw_data = array.array('f', texture_data)"
   ]
  }
 ],
 "metadata": {
  "kernelspec": {
   "display_name": "env",
   "language": "python",
   "name": "python3"
  },
  "language_info": {
   "codemirror_mode": {
    "name": "ipython",
    "version": 3
   },
   "file_extension": ".py",
   "mimetype": "text/x-python",
   "name": "python",
   "nbconvert_exporter": "python",
   "pygments_lexer": "ipython3",
   "version": "3.9.6"
  }
 },
 "nbformat": 4,
 "nbformat_minor": 5
}
